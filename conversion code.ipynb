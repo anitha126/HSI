{
 "cells": [
  {
   "cell_type": "code",
   "execution_count": 3,
   "id": "dcf62c16",
   "metadata": {},
   "outputs": [],
   "source": [
    "import numpy as np\n",
    "from scipy import io"
   ]
  },
  {
   "cell_type": "code",
   "execution_count": 9,
   "id": "8b439826",
   "metadata": {},
   "outputs": [
    {
     "name": "stdout",
     "output_type": "stream",
     "text": [
      "dict_keys(['__header__', '__version__', '__globals__', 'salinas_gt'])\n",
      "dict_values([b'MATLAB 5.0 MAT-file, Platform: GLNXA64, Created on: Fri May 20 18:26:51 2011', '1.0', [], array([[ 0,  0,  0, ...,  0,  0,  0],\n",
      "       [ 0,  0,  0, ...,  0,  0,  0],\n",
      "       [ 0,  0,  0, ...,  0,  0,  0],\n",
      "       ...,\n",
      "       [16, 16, 16, ...,  0,  0,  0],\n",
      "       [16, 16, 16, ...,  0,  0,  0],\n",
      "       [ 0,  0,  0, ...,  0,  0,  0]], dtype=uint8)])\n",
      "(512, 217)\n"
     ]
    }
   ],
   "source": [
    "mat = io.loadmat('Salinas_gt.mat')\n",
    " #If you get an error: Please use HDF reader for matlab v7.3 files\n",
    " # Change to the next way to read\n",
    "\n",
    " \n",
    " # mat file may have multiple cells, each corresponding to a dataset\n",
    " \n",
    " # You can use the keys method to view the name of the cell. Now use list(mat.keys()).\n",
    " # In addition, read to use data = mat.get ('name'), then you can use Numpy to turn to array\n",
    "print(mat.keys())\n",
    " # You can use the values ​​method to view information about each cell.\n",
    "print(mat.values())\n",
    "#data = mat.get ('name')\n",
    "#print(data)\n",
    " # can use shape to view dimension information\n",
    "print(mat['salinas_gt'].shape)\n",
    " # Note that the shape information seen here is different from what you opened in matlab\n",
    " # The matrix here is the transpose of the matrix when matlab is open\n",
    " # So, we need to turn it back\n",
    "mat_t = np.transpose(mat['salinas_gt'])\n",
    " # mat_t is numpy.ndarray format\n",
    " \n",
    " # Save it as an npy format file\n",
    "np.save('salinas_gt.npy', mat_t)"
   ]
  },
  {
   "cell_type": "code",
   "execution_count": 11,
   "id": "2aaf4c79",
   "metadata": {},
   "outputs": [
    {
     "name": "stdout",
     "output_type": "stream",
     "text": [
      "dict_keys(['__header__', '__version__', '__globals__', 'salinas_corrected'])\n",
      "dict_values([b'MATLAB 5.0 MAT-file, Platform: GLNXA64, Created on: Fri May 20 18:48:11 2011', '1.0', [], array([[[290, 381, 585, ...,  36,  11,  17],\n",
      "        [290, 381, 519, ...,  36,  11,  15],\n",
      "        [290, 381, 585, ...,  30,  11,  11],\n",
      "        ...,\n",
      "        [373, 482, 594, ...,   6,   4,   0],\n",
      "        [373, 482, 659, ...,   0,   0,   5],\n",
      "        [305, 393, 655, ...,   1,   1,  -3]],\n",
      "\n",
      "       [[379, 400, 600, ...,  32,  11,  15],\n",
      "        [308, 400, 535, ...,  28,  15,  13],\n",
      "        [379, 483, 535, ...,  26,   5,  15],\n",
      "        ...,\n",
      "        [376, 477, 590, ...,   3,   0,  -5],\n",
      "        [376, 477, 590, ...,   7,   0,  13],\n",
      "        [305, 393, 655, ...,   1,   1,  -3]],\n",
      "\n",
      "       [[369, 495, 604, ...,  29,   9,  17],\n",
      "        [298, 411, 604, ...,  23,   5,  13],\n",
      "        [298, 411, 670, ...,  27,   7,  13],\n",
      "        ...,\n",
      "        [447, 468, 664, ...,   4,   7,   0],\n",
      "        [305, 468, 664, ...,  14,   7,   2],\n",
      "        [447, 384, 664, ...,   6,   1,   4]],\n",
      "\n",
      "       ...,\n",
      "\n",
      "       [[379, 383, 540, ...,   6,   5,   9],\n",
      "        [308, 383, 540, ...,   8,   5,   5],\n",
      "        [379, 383, 540, ...,   4,  -2,   7],\n",
      "        ...,\n",
      "        [367, 387, 661, ...,  39,  17,  23],\n",
      "        [367, 470, 661, ...,  43,  15,  23],\n",
      "        [438, 470, 596, ...,  41,  13,  27]],\n",
      "\n",
      "       [[314, 479, 604, ...,   8,   5,   0],\n",
      "        [314, 396, 539, ...,   4,   3,   2],\n",
      "        [385, 396, 539, ...,   2,   1,   0],\n",
      "        ...,\n",
      "        [367, 387, 661, ...,  39,  17,  23],\n",
      "        [367, 470, 661, ...,  43,  15,  23],\n",
      "        [376, 489, 674, ...,  42,  15,  23]],\n",
      "\n",
      "       [[371, 400, 605, ...,   1,   4,   2],\n",
      "        [299, 483, 605, ...,  11,   2,  11],\n",
      "        [299, 400, 540, ...,  11,   6,  -3],\n",
      "        ...,\n",
      "        [447, 405, 674, ...,  42,  11,  23],\n",
      "        [447, 405, 674, ...,  42,  17,  27],\n",
      "        [376, 489, 674, ...,  42,  15,  23]]], dtype=int16)])\n",
      "(512, 217, 204)\n"
     ]
    }
   ],
   "source": [
    "mat = io.loadmat('Salinas_corrected.mat')\n",
    " #If you get an error: Please use HDF reader for matlab v7.3 files\n",
    " # Change to the next way to read\n",
    "\n",
    " \n",
    " # mat file may have multiple cells, each corresponding to a dataset\n",
    " \n",
    " # You can use the keys method to view the name of the cell. Now use list(mat.keys()).\n",
    " # In addition, read to use data = mat.get ('name'), then you can use Numpy to turn to array\n",
    "print(mat.keys())\n",
    " # You can use the values ​​method to view information about each cell.\n",
    "print(mat.values())\n",
    "#data = mat.get ('name')\n",
    "#print(data)\n",
    " # can use shape to view dimension information\n",
    "print(mat['salinas_corrected'].shape)\n",
    " # Note that the shape information seen here is different from what you opened in matlab\n",
    " # The matrix here is the transpose of the matrix when matlab is open\n",
    " # So, we need to turn it back\n",
    "mat_t = np.transpose(mat['salinas_corrected'])\n",
    " # mat_t is numpy.ndarray format\n",
    " \n",
    " # Save it as an npy format file\n",
    "np.save('salinas_corrected.npy', mat_t)"
   ]
  },
  {
   "cell_type": "code",
   "execution_count": null,
   "id": "2217ab4b",
   "metadata": {},
   "outputs": [],
   "source": []
  }
 ],
 "metadata": {
  "kernelspec": {
   "display_name": "Python 3",
   "language": "python",
   "name": "python3"
  },
  "language_info": {
   "codemirror_mode": {
    "name": "ipython",
    "version": 3
   },
   "file_extension": ".py",
   "mimetype": "text/x-python",
   "name": "python",
   "nbconvert_exporter": "python",
   "pygments_lexer": "ipython3",
   "version": "3.8.8"
  }
 },
 "nbformat": 4,
 "nbformat_minor": 5
}
